{
  "nbformat": 4,
  "nbformat_minor": 0,
  "metadata": {
    "colab": {
      "provenance": [],
      "authorship_tag": "ABX9TyOzOBaAEDYga/8FImkzZqis",
      "include_colab_link": true
    },
    "kernelspec": {
      "name": "python3",
      "display_name": "Python 3"
    },
    "language_info": {
      "name": "python"
    }
  },
  "cells": [
    {
      "cell_type": "markdown",
      "metadata": {
        "id": "view-in-github",
        "colab_type": "text"
      },
      "source": [
        "<a href=\"https://colab.research.google.com/github/FedirAnichkin/FedirAnichkin.github.io/blob/master/template.ipynb\" target=\"_parent\"><img src=\"https://colab.research.google.com/assets/colab-badge.svg\" alt=\"Open In Colab\"/></a>"
      ]
    },
    {
      "cell_type": "code",
      "execution_count": null,
      "metadata": {
        "id": "nFkohtirQAB0"
      },
      "outputs": [],
      "source": [
        "# Authenticate user to google cloud with your current credentials\n",
        "from google.colab import auth\n",
        "auth.authenticate_user()"
      ]
    },
    {
      "cell_type": "code",
      "source": [
        "# imports BigQuery, DataFrames and syntax for sql\n",
        "from google.cloud import bigquery\n",
        "import bigframes.pandas as bpd\n",
        "from google.colab import syntax\n",
        "\n",
        "# connecting to BigQuery\n",
        "project_id = 'allright-234310'\n",
        "client = bigquery.Client(project=project_id)"
      ],
      "metadata": {
        "id": "DeXP5M9DQVhU"
      },
      "execution_count": null,
      "outputs": []
    },
    {
      "cell_type": "code",
      "source": [
        "# Set BigQuery DataFrames options\n",
        "bpd.options.bigquery.project = project_id\n",
        "bpd.options.bigquery.location = \"US\""
      ],
      "metadata": {
        "id": "37SJjevuTITg"
      },
      "execution_count": null,
      "outputs": []
    },
    {
      "cell_type": "code",
      "source": [
        "query = syntax.sql('''\n",
        "  SELECT *\n",
        "  FROM `allright-234310.backend_monolith_public.experiments`\n",
        "''')\n",
        "\n",
        "# Load data from a BigQuery table using BigFrames DataFrames:\n",
        "bq_df = bpd.read_gbq(query)"
      ],
      "metadata": {
        "colab": {
          "base_uri": "https://localhost:8080/",
          "height": 69
        },
        "id": "5mvk5WqDZQfB",
        "outputId": "a423cbe3-e271-49b9-bf6d-affa8e3c12bc"
      },
      "execution_count": null,
      "outputs": [
        {
          "output_type": "display_data",
          "data": {
            "text/plain": [
              "<IPython.core.display.HTML object>"
            ],
            "text/html": [
              "Query job 6fa0f939-81a6-4cd0-9825-395a0c917be2 is DONE. 91.4 kB processed. <a target=\"_blank\" href=\"https://console.cloud.google.com/bigquery?project=allright-234310&j=bq:US:6fa0f939-81a6-4cd0-9825-395a0c917be2&page=queryresults\">Open Job</a>"
            ]
          },
          "metadata": {}
        },
        {
          "output_type": "stream",
          "name": "stderr",
          "text": [
            "/usr/local/lib/python3.10/dist-packages/bigframes/core/__init__.py:112: PreviewWarning: Interpreting JSON column(s) as StringDtype. This behavior may change in future versions.\n",
            "  warnings.warn(\n"
          ]
        }
      ]
    },
    {
      "cell_type": "code",
      "source": [
        "bq_df.sort_values(by=['id'], ascending=False).head()"
      ],
      "metadata": {
        "colab": {
          "base_uri": "https://localhost:8080/",
          "height": 603
        },
        "id": "rW_AF4JWaLid",
        "outputId": "cdf4d037-db8c-44d4-9d1d-e6367af0809a"
      },
      "execution_count": null,
      "outputs": [
        {
          "output_type": "display_data",
          "data": {
            "text/plain": [
              "<IPython.core.display.HTML object>"
            ],
            "text/html": [
              "Query job 0abbf744-d9d8-44f7-9442-6318ab8ddc93 is DONE. 92.4 kB processed. <a target=\"_blank\" href=\"https://console.cloud.google.com/bigquery?project=allright-234310&j=bq:US:0abbf744-d9d8-44f7-9442-6318ab8ddc93&page=queryresults\">Open Job</a>"
            ]
          },
          "metadata": {}
        },
        {
          "output_type": "execute_result",
          "data": {
            "text/plain": [
              "      id                                              alias  \\\n",
              "98   569                 SPECIFIC_CHILD_AGE_STEP_EXPERIMENT   \n",
              "78   568                        PHILI_PROJECT_EXPERIMENT_V2   \n",
              "264  567  SUBSCRIPTION_RENEWAL_AFTER_LESSONS_BALANCE_FIN...   \n",
              "201  566           V9_FACEBOOK_TRAFFIC_EXPERIMENT_VERSION_2   \n",
              "177  565          COMPARING_V9_LANDING_EXPERIMENT_VERSION_2   \n",
              "\n",
              "                                                  name  \\\n",
              "98   A funnel with a new step for choosing specific...   \n",
              "78                        Funnel with additional steps   \n",
              "264  Subscription renewal after lessons balance fin...   \n",
              "201  Redirect from v9 to landing if source facebook...   \n",
              "177       Comparing v9 funnel with landing - version 2   \n",
              "\n",
              "                                                  desc  \\\n",
              "98   {\"A\":\"Old design\",\"B\":\"New design\",\"DESC\":\"A f...   \n",
              "78   {\"A\":\"V9\",\"B\":\"V9\",\"C\":\"Additional 2 info step...   \n",
              "264  {\"A\":\"control\",\"B\":\"test\",\"DESC\":\"Subscription...   \n",
              "201  {\"A\":\"v9 funnel\",\"B\":\"v9 funnel\",\"C\":\"Redirect...   \n",
              "177  {\"A\":\"Show v9 funnel\",\"B\":\"Show v9 funnel\",\"C\"...   \n",
              "\n",
              "                   variants                        created_at  \\\n",
              "98          {\"A\":50,\"B\":50}  2024-11-18 10:13:50.777550+00:00   \n",
              "78   {\"A\":33,\"B\":33,\"C\":33}  2024-11-13 10:32:23.261066+00:00   \n",
              "264         {\"A\":50,\"B\":50}  2024-11-05 10:23:21.048948+00:00   \n",
              "201  {\"A\":33,\"B\":33,\"C\":33}  2024-10-22 13:19:46.068997+00:00   \n",
              "177  {\"A\":33,\"B\":33,\"C\":33}  2024-10-22 13:19:46.039750+00:00   \n",
              "\n",
              "                           updated_at edited_at  is_deleted  \\\n",
              "98   2024-11-26 15:29:15.146000+00:00      <NA>       False   \n",
              "78   2024-11-20 13:57:56.885000+00:00      <NA>       False   \n",
              "264  2024-11-05 10:23:21.048948+00:00      <NA>       False   \n",
              "201  2024-11-05 16:36:53.152000+00:00      <NA>        True   \n",
              "177  2024-11-05 10:54:15.576000+00:00      <NA>        True   \n",
              "\n",
              "                                            report_url variants_history  \\\n",
              "98   https://docs.google.com/document/d/128RqjsnylN...             <NA>   \n",
              "78   https://lookerstudio.google.com/u/0/reporting/...             <NA>   \n",
              "264                                               <NA>             <NA>   \n",
              "201  https://docs.google.com/document/d/1nrscvPw1yT...             <NA>   \n",
              "177  https://docs.google.com/document/d/1yc0t2IRJlV...             <NA>   \n",
              "\n",
              "    old_desc result_variant                                datastream_metadata  \n",
              "98      <NA>           <NA>  {'uuid': '5ed5009c-0810-4b3e-8374-c14500110001...  \n",
              "78      <NA>           <NA>  {'uuid': '3644f128-8fd0-404b-8864-a9d510101100...  \n",
              "264     <NA>           <NA>  {'uuid': '9bd949a7-f313-4c7d-b73e-a40c11011110...  \n",
              "201     <NA>              A  {'uuid': '69ad554d-cb1c-43b7-9a89-345c00100010...  \n",
              "177     <NA>              A  {'uuid': '69ad554d-cb1c-43b7-9a89-345c00100100...  \n",
              "\n",
              "[5 rows x 14 columns]"
            ],
            "text/html": [
              "<div>\n",
              "<style scoped>\n",
              "    .dataframe tbody tr th:only-of-type {\n",
              "        vertical-align: middle;\n",
              "    }\n",
              "\n",
              "    .dataframe tbody tr th {\n",
              "        vertical-align: top;\n",
              "    }\n",
              "\n",
              "    .dataframe thead th {\n",
              "        text-align: right;\n",
              "    }\n",
              "</style>\n",
              "<table border=\"1\" class=\"dataframe\">\n",
              "  <thead>\n",
              "    <tr style=\"text-align: right;\">\n",
              "      <th></th>\n",
              "      <th>id</th>\n",
              "      <th>alias</th>\n",
              "      <th>name</th>\n",
              "      <th>desc</th>\n",
              "      <th>variants</th>\n",
              "      <th>created_at</th>\n",
              "      <th>updated_at</th>\n",
              "      <th>edited_at</th>\n",
              "      <th>is_deleted</th>\n",
              "      <th>report_url</th>\n",
              "      <th>variants_history</th>\n",
              "      <th>old_desc</th>\n",
              "      <th>result_variant</th>\n",
              "      <th>datastream_metadata</th>\n",
              "    </tr>\n",
              "  </thead>\n",
              "  <tbody>\n",
              "    <tr>\n",
              "      <th>98</th>\n",
              "      <td>569</td>\n",
              "      <td>SPECIFIC_CHILD_AGE_STEP_EXPERIMENT</td>\n",
              "      <td>A funnel with a new step for choosing specific...</td>\n",
              "      <td>{\"A\":\"Old design\",\"B\":\"New design\",\"DESC\":\"A f...</td>\n",
              "      <td>{\"A\":50,\"B\":50}</td>\n",
              "      <td>2024-11-18 10:13:50.777550+00:00</td>\n",
              "      <td>2024-11-26 15:29:15.146000+00:00</td>\n",
              "      <td>&lt;NA&gt;</td>\n",
              "      <td>False</td>\n",
              "      <td>https://docs.google.com/document/d/128RqjsnylN...</td>\n",
              "      <td>&lt;NA&gt;</td>\n",
              "      <td>&lt;NA&gt;</td>\n",
              "      <td>&lt;NA&gt;</td>\n",
              "      <td>{'uuid': '5ed5009c-0810-4b3e-8374-c14500110001...</td>\n",
              "    </tr>\n",
              "    <tr>\n",
              "      <th>78</th>\n",
              "      <td>568</td>\n",
              "      <td>PHILI_PROJECT_EXPERIMENT_V2</td>\n",
              "      <td>Funnel with additional steps</td>\n",
              "      <td>{\"A\":\"V9\",\"B\":\"V9\",\"C\":\"Additional 2 info step...</td>\n",
              "      <td>{\"A\":33,\"B\":33,\"C\":33}</td>\n",
              "      <td>2024-11-13 10:32:23.261066+00:00</td>\n",
              "      <td>2024-11-20 13:57:56.885000+00:00</td>\n",
              "      <td>&lt;NA&gt;</td>\n",
              "      <td>False</td>\n",
              "      <td>https://lookerstudio.google.com/u/0/reporting/...</td>\n",
              "      <td>&lt;NA&gt;</td>\n",
              "      <td>&lt;NA&gt;</td>\n",
              "      <td>&lt;NA&gt;</td>\n",
              "      <td>{'uuid': '3644f128-8fd0-404b-8864-a9d510101100...</td>\n",
              "    </tr>\n",
              "    <tr>\n",
              "      <th>264</th>\n",
              "      <td>567</td>\n",
              "      <td>SUBSCRIPTION_RENEWAL_AFTER_LESSONS_BALANCE_FIN...</td>\n",
              "      <td>Subscription renewal after lessons balance fin...</td>\n",
              "      <td>{\"A\":\"control\",\"B\":\"test\",\"DESC\":\"Subscription...</td>\n",
              "      <td>{\"A\":50,\"B\":50}</td>\n",
              "      <td>2024-11-05 10:23:21.048948+00:00</td>\n",
              "      <td>2024-11-05 10:23:21.048948+00:00</td>\n",
              "      <td>&lt;NA&gt;</td>\n",
              "      <td>False</td>\n",
              "      <td>&lt;NA&gt;</td>\n",
              "      <td>&lt;NA&gt;</td>\n",
              "      <td>&lt;NA&gt;</td>\n",
              "      <td>&lt;NA&gt;</td>\n",
              "      <td>{'uuid': '9bd949a7-f313-4c7d-b73e-a40c11011110...</td>\n",
              "    </tr>\n",
              "    <tr>\n",
              "      <th>201</th>\n",
              "      <td>566</td>\n",
              "      <td>V9_FACEBOOK_TRAFFIC_EXPERIMENT_VERSION_2</td>\n",
              "      <td>Redirect from v9 to landing if source facebook...</td>\n",
              "      <td>{\"A\":\"v9 funnel\",\"B\":\"v9 funnel\",\"C\":\"Redirect...</td>\n",
              "      <td>{\"A\":33,\"B\":33,\"C\":33}</td>\n",
              "      <td>2024-10-22 13:19:46.068997+00:00</td>\n",
              "      <td>2024-11-05 16:36:53.152000+00:00</td>\n",
              "      <td>&lt;NA&gt;</td>\n",
              "      <td>True</td>\n",
              "      <td>https://docs.google.com/document/d/1nrscvPw1yT...</td>\n",
              "      <td>&lt;NA&gt;</td>\n",
              "      <td>&lt;NA&gt;</td>\n",
              "      <td>A</td>\n",
              "      <td>{'uuid': '69ad554d-cb1c-43b7-9a89-345c00100010...</td>\n",
              "    </tr>\n",
              "    <tr>\n",
              "      <th>177</th>\n",
              "      <td>565</td>\n",
              "      <td>COMPARING_V9_LANDING_EXPERIMENT_VERSION_2</td>\n",
              "      <td>Comparing v9 funnel with landing - version 2</td>\n",
              "      <td>{\"A\":\"Show v9 funnel\",\"B\":\"Show v9 funnel\",\"C\"...</td>\n",
              "      <td>{\"A\":33,\"B\":33,\"C\":33}</td>\n",
              "      <td>2024-10-22 13:19:46.039750+00:00</td>\n",
              "      <td>2024-11-05 10:54:15.576000+00:00</td>\n",
              "      <td>&lt;NA&gt;</td>\n",
              "      <td>True</td>\n",
              "      <td>https://docs.google.com/document/d/1yc0t2IRJlV...</td>\n",
              "      <td>&lt;NA&gt;</td>\n",
              "      <td>&lt;NA&gt;</td>\n",
              "      <td>A</td>\n",
              "      <td>{'uuid': '69ad554d-cb1c-43b7-9a89-345c00100100...</td>\n",
              "    </tr>\n",
              "  </tbody>\n",
              "</table>\n",
              "<p>5 rows × 14 columns</p>\n",
              "</div>[5 rows x 14 columns in total]"
            ]
          },
          "metadata": {},
          "execution_count": 5
        }
      ]
    }
  ]
}