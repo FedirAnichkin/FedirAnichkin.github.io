{
  "nbformat": 4,
  "nbformat_minor": 0,
  "metadata": {
    "colab": {
      "provenance": [],
      "authorship_tag": "ABX9TyPQPTtQuI+4QJ/c4zMB0X27",
      "include_colab_link": true
    },
    "kernelspec": {
      "name": "python3",
      "display_name": "Python 3"
    },
    "language_info": {
      "name": "python"
    }
  },
  "cells": [
    {
      "cell_type": "markdown",
      "metadata": {
        "id": "view-in-github",
        "colab_type": "text"
      },
      "source": [
        "<a href=\"https://colab.research.google.com/github/FedirAnichkin/FedirAnichkin.github.io/blob/master/colab_files/template.ipynb\" target=\"_parent\"><img src=\"https://colab.research.google.com/assets/colab-badge.svg\" alt=\"Open In Colab\"/></a>"
      ]
    },
    {
      "cell_type": "code",
      "execution_count": 1,
      "metadata": {
        "id": "nFkohtirQAB0"
      },
      "outputs": [],
      "source": [
        "# Authenticate user to google cloud with your current credentials\n",
        "from google.colab import auth\n",
        "auth.authenticate_user()"
      ]
    },
    {
      "cell_type": "code",
      "source": [
        "# imports BigQuery, DataFrames and syntax for sql\n",
        "from google.cloud import bigquery\n",
        "import bigframes.pandas as bpd\n",
        "from google.colab import syntax\n",
        "\n",
        "# connecting to BigQuery\n",
        "project_id = 'allright-234310'\n",
        "client = bigquery.Client(project=project_id)"
      ],
      "metadata": {
        "id": "DeXP5M9DQVhU"
      },
      "execution_count": 2,
      "outputs": []
    },
    {
      "cell_type": "code",
      "source": [
        "# Set BigQuery DataFrames options\n",
        "bpd.options.bigquery.project = project_id\n",
        "bpd.options.bigquery.location = \"US\""
      ],
      "metadata": {
        "id": "37SJjevuTITg"
      },
      "execution_count": 3,
      "outputs": []
    },
    {
      "cell_type": "code",
      "source": [
        "query = syntax.sql('''\n",
        "  SELECT distinct variant, user_id, student_id, trial_finished_student, paid\n",
        "  FROM `allright-234310.ab_tests.exp_funnel_v10_table`\n",
        "''')\n",
        "\n",
        "# Load data from a BigQuery table using BigFrames DataFrames:\n",
        "bq_df = bpd.read_gbq(query)"
      ],
      "metadata": {
        "colab": {
          "base_uri": "https://localhost:8080/",
          "height": 52
        },
        "id": "5mvk5WqDZQfB",
        "outputId": "e72ef674-d9b1-4f20-954a-158d3342f618"
      },
      "execution_count": 4,
      "outputs": [
        {
          "output_type": "display_data",
          "data": {
            "text/plain": [
              "<IPython.core.display.HTML object>"
            ],
            "text/html": [
              "Query job 6fe708a3-ccb3-4df9-94dc-d9da1c0cdb8c is DONE. 0 Bytes processed. <a target=\"_blank\" href=\"https://console.cloud.google.com/bigquery?project=allright-234310&j=bq:US:6fe708a3-ccb3-4df9-94dc-d9da1c0cdb8c&page=queryresults\">Open Job</a>"
            ]
          },
          "metadata": {}
        },
        {
          "output_type": "display_data",
          "data": {
            "text/plain": [
              "<IPython.core.display.HTML object>"
            ],
            "text/html": [
              "Query job caffa122-a3d1-49bb-b4fa-83ce61c90826 is DONE. 5.8 kB processed. <a target=\"_blank\" href=\"https://console.cloud.google.com/bigquery?project=allright-234310&j=bq:US:caffa122-a3d1-49bb-b4fa-83ce61c90826&page=queryresults\">Open Job</a>"
            ]
          },
          "metadata": {}
        }
      ]
    },
    {
      "cell_type": "code",
      "source": [
        "bq_df.sort_values(by=['variant'], ascending=True).head(15)"
      ],
      "metadata": {
        "colab": {
          "base_uri": "https://localhost:8080/",
          "height": 584
        },
        "id": "rW_AF4JWaLid",
        "outputId": "ddc7d5ff-1eae-4829-bd62-dde4c1cd305e"
      },
      "execution_count": 8,
      "outputs": [
        {
          "output_type": "display_data",
          "data": {
            "text/plain": [
              "<IPython.core.display.HTML object>"
            ],
            "text/html": [
              "Query job ad1d1c2d-6a4e-431c-b63c-b7fe4f6d3338 is DONE. 4.4 kB processed. <a target=\"_blank\" href=\"https://console.cloud.google.com/bigquery?project=allright-234310&j=bq:US:ad1d1c2d-6a4e-431c-b63c-b7fe4f6d3338&page=queryresults\">Open Job</a>"
            ]
          },
          "metadata": {}
        },
        {
          "output_type": "execute_result",
          "data": {
            "text/plain": [
              "   variant  user_id  student_id  trial_finished_student  paid\n",
              "0        A  1058886        <NA>                    <NA>  <NA>\n",
              "1        A  1063921        <NA>                    <NA>  <NA>\n",
              "6        A  1062495        <NA>                    <NA>  <NA>\n",
              "9        A  1061863        <NA>                    <NA>  <NA>\n",
              "10       A  1059277        <NA>                    <NA>  <NA>\n",
              "11       A  1061255     1061255                    <NA>  <NA>\n",
              "14       A  1064674        <NA>                    <NA>  <NA>\n",
              "15       A  1060569        <NA>                    <NA>  <NA>\n",
              "17       A  1062592        <NA>                    <NA>  <NA>\n",
              "19       A  1054773        <NA>                    <NA>  <NA>\n",
              "22       A  1062519        <NA>                    <NA>  <NA>\n",
              "25       A  1061108        <NA>                    <NA>  <NA>\n",
              "28       A  1066445        <NA>                    <NA>  <NA>\n",
              "29       A  1063713     1063713                 1063713  <NA>\n",
              "31       A  1061916        <NA>                    <NA>  <NA>\n",
              "\n",
              "[15 rows x 5 columns]"
            ],
            "text/html": [
              "<div>\n",
              "<style scoped>\n",
              "    .dataframe tbody tr th:only-of-type {\n",
              "        vertical-align: middle;\n",
              "    }\n",
              "\n",
              "    .dataframe tbody tr th {\n",
              "        vertical-align: top;\n",
              "    }\n",
              "\n",
              "    .dataframe thead th {\n",
              "        text-align: right;\n",
              "    }\n",
              "</style>\n",
              "<table border=\"1\" class=\"dataframe\">\n",
              "  <thead>\n",
              "    <tr style=\"text-align: right;\">\n",
              "      <th></th>\n",
              "      <th>variant</th>\n",
              "      <th>user_id</th>\n",
              "      <th>student_id</th>\n",
              "      <th>trial_finished_student</th>\n",
              "      <th>paid</th>\n",
              "    </tr>\n",
              "  </thead>\n",
              "  <tbody>\n",
              "    <tr>\n",
              "      <th>0</th>\n",
              "      <td>A</td>\n",
              "      <td>1058886</td>\n",
              "      <td>&lt;NA&gt;</td>\n",
              "      <td>&lt;NA&gt;</td>\n",
              "      <td>&lt;NA&gt;</td>\n",
              "    </tr>\n",
              "    <tr>\n",
              "      <th>1</th>\n",
              "      <td>A</td>\n",
              "      <td>1063921</td>\n",
              "      <td>&lt;NA&gt;</td>\n",
              "      <td>&lt;NA&gt;</td>\n",
              "      <td>&lt;NA&gt;</td>\n",
              "    </tr>\n",
              "    <tr>\n",
              "      <th>6</th>\n",
              "      <td>A</td>\n",
              "      <td>1062495</td>\n",
              "      <td>&lt;NA&gt;</td>\n",
              "      <td>&lt;NA&gt;</td>\n",
              "      <td>&lt;NA&gt;</td>\n",
              "    </tr>\n",
              "    <tr>\n",
              "      <th>9</th>\n",
              "      <td>A</td>\n",
              "      <td>1061863</td>\n",
              "      <td>&lt;NA&gt;</td>\n",
              "      <td>&lt;NA&gt;</td>\n",
              "      <td>&lt;NA&gt;</td>\n",
              "    </tr>\n",
              "    <tr>\n",
              "      <th>10</th>\n",
              "      <td>A</td>\n",
              "      <td>1059277</td>\n",
              "      <td>&lt;NA&gt;</td>\n",
              "      <td>&lt;NA&gt;</td>\n",
              "      <td>&lt;NA&gt;</td>\n",
              "    </tr>\n",
              "    <tr>\n",
              "      <th>11</th>\n",
              "      <td>A</td>\n",
              "      <td>1061255</td>\n",
              "      <td>1061255</td>\n",
              "      <td>&lt;NA&gt;</td>\n",
              "      <td>&lt;NA&gt;</td>\n",
              "    </tr>\n",
              "    <tr>\n",
              "      <th>14</th>\n",
              "      <td>A</td>\n",
              "      <td>1064674</td>\n",
              "      <td>&lt;NA&gt;</td>\n",
              "      <td>&lt;NA&gt;</td>\n",
              "      <td>&lt;NA&gt;</td>\n",
              "    </tr>\n",
              "    <tr>\n",
              "      <th>15</th>\n",
              "      <td>A</td>\n",
              "      <td>1060569</td>\n",
              "      <td>&lt;NA&gt;</td>\n",
              "      <td>&lt;NA&gt;</td>\n",
              "      <td>&lt;NA&gt;</td>\n",
              "    </tr>\n",
              "    <tr>\n",
              "      <th>17</th>\n",
              "      <td>A</td>\n",
              "      <td>1062592</td>\n",
              "      <td>&lt;NA&gt;</td>\n",
              "      <td>&lt;NA&gt;</td>\n",
              "      <td>&lt;NA&gt;</td>\n",
              "    </tr>\n",
              "    <tr>\n",
              "      <th>19</th>\n",
              "      <td>A</td>\n",
              "      <td>1054773</td>\n",
              "      <td>&lt;NA&gt;</td>\n",
              "      <td>&lt;NA&gt;</td>\n",
              "      <td>&lt;NA&gt;</td>\n",
              "    </tr>\n",
              "    <tr>\n",
              "      <th>22</th>\n",
              "      <td>A</td>\n",
              "      <td>1062519</td>\n",
              "      <td>&lt;NA&gt;</td>\n",
              "      <td>&lt;NA&gt;</td>\n",
              "      <td>&lt;NA&gt;</td>\n",
              "    </tr>\n",
              "    <tr>\n",
              "      <th>25</th>\n",
              "      <td>A</td>\n",
              "      <td>1061108</td>\n",
              "      <td>&lt;NA&gt;</td>\n",
              "      <td>&lt;NA&gt;</td>\n",
              "      <td>&lt;NA&gt;</td>\n",
              "    </tr>\n",
              "    <tr>\n",
              "      <th>28</th>\n",
              "      <td>A</td>\n",
              "      <td>1066445</td>\n",
              "      <td>&lt;NA&gt;</td>\n",
              "      <td>&lt;NA&gt;</td>\n",
              "      <td>&lt;NA&gt;</td>\n",
              "    </tr>\n",
              "    <tr>\n",
              "      <th>29</th>\n",
              "      <td>A</td>\n",
              "      <td>1063713</td>\n",
              "      <td>1063713</td>\n",
              "      <td>1063713</td>\n",
              "      <td>&lt;NA&gt;</td>\n",
              "    </tr>\n",
              "    <tr>\n",
              "      <th>31</th>\n",
              "      <td>A</td>\n",
              "      <td>1061916</td>\n",
              "      <td>&lt;NA&gt;</td>\n",
              "      <td>&lt;NA&gt;</td>\n",
              "      <td>&lt;NA&gt;</td>\n",
              "    </tr>\n",
              "  </tbody>\n",
              "</table>\n",
              "<p>15 rows × 5 columns</p>\n",
              "</div>[15 rows x 5 columns in total]"
            ]
          },
          "metadata": {},
          "execution_count": 8
        }
      ]
    }
  ]
}